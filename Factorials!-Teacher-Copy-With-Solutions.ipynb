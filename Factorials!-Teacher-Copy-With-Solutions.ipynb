{
 "cells": [
  {
   "cell_type": "markdown",
   "metadata": {},
   "source": [
    "# Factorials!\n",
    "\n",
    "(Yes it's punny.)\n",
    " \n"
   ]
  },
  {
   "cell_type": "markdown",
   "metadata": {},
   "source": [
    "## Introduction\n",
    "\n",
    "\n",
    "### Factorials \n",
    "\n",
    "Factorials are an important mathematical concept which you will further investigate when dealing with probability and statistics. For example, when considering the number of possible 5 card poker hands a player could draw, there are 52 possible cards for the first card, 51 remaining cards for the second card, 50 possibilities for the 3rd card, 49 for the 4th and 48 for the fifth. Admittedly, some of these possibilities are repetitious as the order of the cards in your hand is not relevant. This chain of thought outlines the concepts of permutations and combinations. The order of items matters for permutations while combinations are solely focused on the members of a given set, not their order.\n",
    "\n",
    "$n!$ is read \"n factorial\". Similarly, $5!$ is read \"5 factorial\". $n!$ (n factorial) is defined as the product of all the integers between 1 and n, inclusive. For example,  $5! = 5 \\cdot 4 \\cdot \\cdot 3 \\cdot 2 \\cdot 1 = 120$ and $3! = 3 \\cdot 2 \\cdot 1 = 6$.\n",
    "\n",
    "### Recursion\n",
    "\n",
    "Recursion is a programming concept in which a function makes subsequent (recursive) calls to itself. If you've ever pointed two mirrors at each other, you have witnessed the concept of recursion--the reflection from one mirror reflects off the other, reflecting back to the original, and so forth. One need not have infinite recursion as with this example. In programming, a recursive function is one that calls itself. Here's an example which computes the product of a list of numbers by successively multiplying the numbers in the list:"
   ]
  },
  {
   "cell_type": "code",
   "execution_count": null,
   "metadata": {},
   "outputs": [],
   "source": [
    "def product(numbers):\n",
    "    if len(numbers) >= 2:\n",
    "        return numbers[0] * product(numbers[1:])\n",
    "    else:\n",
    "        return numbers[0]"
   ]
  },
  {
   "cell_type": "markdown",
   "metadata": {},
   "source": [
    "## Discussion Questions\n",
    "\n",
    "Take a look at the the above code. Describe how the function would compute the result for `product([1,2,3,4])`. Make sure your description discusses what the function would do on the first iteration, as well as specifics regarding the second and future subsequent iterations. How could you modify the function above to include verbose printouts to further investigate this behavior? "
   ]
  },
  {
   "cell_type": "markdown",
   "metadata": {},
   "source": [
    "## Teacher Notes\n",
    "\n",
    "Below is a potential modification which unveils some of the inner cogs. \n",
    "Students should be prompted to verbalize how the original function above would handle the case of `product([1,2,3,4])` first. Modifying the function to view intermediate outputs is also a good practice of skills similar to debugging, which can be a useful anecdote to reinforce the value of this activity to students."
   ]
  },
  {
   "cell_type": "code",
   "execution_count": 3,
   "metadata": {},
   "outputs": [
    {
     "name": "stdout",
     "output_type": "stream",
     "text": [
      "On iteration 1.\n",
      "The current factor is: 1.\n",
      "The remaining numbers are: [2, 3, 4]\n",
      "\n",
      "\n",
      "On iteration 2.\n",
      "The current factor is: 2.\n",
      "The remaining numbers are: [3, 4]\n",
      "\n",
      "\n",
      "On iteration 3.\n",
      "The current factor is: 3.\n",
      "The remaining numbers are: [4]\n",
      "\n",
      "\n",
      "On iteration 4.\n",
      "The current factor is: 4.\n",
      "The remaining numbers are: []\n",
      "\n",
      "\n"
     ]
    },
    {
     "data": {
      "text/plain": [
       "24"
      ]
     },
     "execution_count": 3,
     "metadata": {},
     "output_type": "execute_result"
    }
   ],
   "source": [
    "def product(numbers, iteration=1):\n",
    "    print(\"On iteration {}.\\nThe current factor is: {}.\\nThe remaining numbers are: {}\\n\\n\".format(iteration, numbers[0],numbers[1:]))\n",
    "    if len(numbers) >= 2:\n",
    "        return numbers[0] * product(numbers[1:], iteration=iteration+1)\n",
    "    else:\n",
    "        return numbers[0]\n",
    "product([1,2,3,4])"
   ]
  },
  {
   "cell_type": "markdown",
   "metadata": {},
   "source": [
    "## Challenge Problem\n",
    "\n",
    "Write a function, which uses recursive calls to itself, to compute the factorial of a given number.\n",
    "\n",
    "For example, `factorial(3)` should return 6 while `factorial(5)` should return 120."
   ]
  },
  {
   "cell_type": "code",
   "execution_count": 6,
   "metadata": {},
   "outputs": [
    {
     "data": {
      "text/plain": [
       "720"
      ]
     },
     "execution_count": 6,
     "metadata": {},
     "output_type": "execute_result"
    }
   ],
   "source": [
    "def factorial(n):\n",
    "    if n > 1:\n",
    "        return n * factorial(n-1)\n",
    "    else:\n",
    "        return 1\n",
    "factorial(6)"
   ]
  },
  {
   "cell_type": "code",
   "execution_count": null,
   "metadata": {},
   "outputs": [],
   "source": []
  }
 ],
 "metadata": {
  "kernelspec": {
   "display_name": "Python 3",
   "language": "python",
   "name": "python3"
  },
  "language_info": {
   "codemirror_mode": {
    "name": "ipython",
    "version": 3
   },
   "file_extension": ".py",
   "mimetype": "text/x-python",
   "name": "python",
   "nbconvert_exporter": "python",
   "pygments_lexer": "ipython3",
   "version": "3.6.5"
  }
 },
 "nbformat": 4,
 "nbformat_minor": 2
}
